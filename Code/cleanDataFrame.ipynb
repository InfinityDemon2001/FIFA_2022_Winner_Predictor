{
 "cells": [
  {
   "cell_type": "code",
   "execution_count": 106,
   "id": "16d019e0",
   "metadata": {},
   "outputs": [],
   "source": [
    "import pandas as pd"
   ]
  },
  {
   "cell_type": "markdown",
   "id": "2a5087f3",
   "metadata": {},
   "source": [
    "# 1 Data Cleaning"
   ]
  },
  {
   "cell_type": "code",
   "execution_count": 107,
   "id": "6ac58264",
   "metadata": {},
   "outputs": [],
   "source": [
    "df_historical_data = pd.read_csv('fifa_worldcup_matches.csv')\n",
    "df_fixture = pd.read_csv('fifa_worldcup_fixture.csv')\n",
    "df_missing_data = pd.read_csv('fifa_worldcup_missing_data.csv')"
   ]
  },
  {
   "cell_type": "markdown",
   "id": "0815617b",
   "metadata": {},
   "source": [
    "## 1.1 Cleaning df_fixture"
   ]
  },
  {
   "cell_type": "code",
   "execution_count": 108,
   "id": "6362e681",
   "metadata": {},
   "outputs": [],
   "source": [
    "df_fixture['home'] = df_fixture['home'].str.strip()\n",
    "df_fixture['away'] = df_fixture['away'].str.strip()"
   ]
  },
  {
   "cell_type": "markdown",
   "id": "0259979c",
   "metadata": {},
   "source": [
    "## 1.2 Cleaning df_missing_data and adding it to df_historical_data"
   ]
  },
  {
   "cell_type": "code",
   "execution_count": 109,
   "id": "44c2fcf8",
   "metadata": {},
   "outputs": [],
   "source": [
    "# Null data\n",
    "df_missing_data[df_missing_data['home'].isnull()]\n",
    "\n",
    "# Drop null data\n",
    "df_missing_data.dropna(inplace = True)"
   ]
  },
  {
   "cell_type": "code",
   "execution_count": 110,
   "id": "0770786f",
   "metadata": {},
   "outputs": [],
   "source": [
    "# Concatenate dfs and clean\n",
    "df_historical_data = pd.concat([df_historical_data, df_missing_data], ignore_index = True)\n",
    "\n",
    "# Delete potential duplicate data\n",
    "df_historical_data.drop_duplicates(inplace = True)\n",
    "\n",
    "# Sort the dataset on the basis of year\n",
    "df_historical_data.sort_values('year', inplace = True)"
   ]
  },
  {
   "cell_type": "markdown",
   "id": "3801ed48",
   "metadata": {},
   "source": [
    "## 1.3 Cleaning df_historical_data"
   ]
  },
  {
   "cell_type": "code",
   "execution_count": 111,
   "id": "13214fe9",
   "metadata": {},
   "outputs": [],
   "source": [
    "# Deleting match with walk over\n",
    "delete_index = df_historical_data[df_historical_data['home'].str.contains('Sweden') & df_historical_data['away'].str.contains('Austria')].index\n",
    "\n",
    "df_historical_data.drop(index = delete_index, inplace = True)"
   ]
  },
  {
   "cell_type": "code",
   "execution_count": 112,
   "id": "bffe4ed1",
   "metadata": {},
   "outputs": [],
   "source": [
    "# Column 'score' with anything other than digits and '–' (regex = True here means the string to be replaced is a regular expression)\n",
    "df_historical_data['score'] = df_historical_data['score'].str.replace('[^\\d–]', '', regex = True)"
   ]
  },
  {
   "cell_type": "code",
   "execution_count": 113,
   "id": "87ceba97",
   "metadata": {},
   "outputs": [],
   "source": [
    "# Cleaning home and away columns \n",
    "df_historical_data['home'] = df_historical_data['home'].str.strip()\n",
    "df_historical_data['away'] = df_historical_data['away'].str.strip()"
   ]
  },
  {
   "cell_type": "code",
   "execution_count": 114,
   "id": "f81ec8d3",
   "metadata": {},
   "outputs": [],
   "source": [
    "# Splitting 'score' columns into home and away goals and dropping score column\n",
    "df_historical_data[['HomeGoals', 'AwayGoals']] = df_historical_data['score'].str.split('–', expand = True)"
   ]
  },
  {
   "cell_type": "code",
   "execution_count": 115,
   "id": "2fe1bf67",
   "metadata": {},
   "outputs": [],
   "source": [
    "# Deleting 'score' column (axis = 1 indicates we want to delete the column)\n",
    "df_historical_data.drop('score', axis = 1, inplace = True)"
   ]
  },
  {
   "cell_type": "code",
   "execution_count": 116,
   "id": "087efc45",
   "metadata": {},
   "outputs": [],
   "source": [
    "# Renaming columns and changing data types\n",
    "df_historical_data.rename(columns = {'home': 'HomeTeam', 'away': 'AwayTeam', 'year': 'Year'}, inplace = True)\n",
    "\n",
    "df_historical_data = df_historical_data.astype({'HomeGoals': int, 'AwayGoals': int, 'Year': int})"
   ]
  },
  {
   "cell_type": "code",
   "execution_count": 117,
   "id": "c16a7b5b",
   "metadata": {},
   "outputs": [],
   "source": [
    "# Creating new column 'TotalGoals' (Not really necessary)\n",
    "df_historical_data['TotalGoals'] = df_historical_data['HomeGoals'] + df_historical_data['AwayGoals']"
   ]
  },
  {
   "cell_type": "markdown",
   "id": "7cdcb0da",
   "metadata": {},
   "source": [
    "# 2 Exporting clean dataframes "
   ]
  },
  {
   "cell_type": "code",
   "execution_count": 118,
   "id": "7cff348e",
   "metadata": {},
   "outputs": [],
   "source": [
    "df_historical_data.to_csv('clean_fifa_worldcup_matches.csv', index = False)\n",
    "df_fixture.to_csv('clean_fifa_worldcup_fixture.csv', index = False)"
   ]
  },
  {
   "cell_type": "markdown",
   "id": "1264c45e",
   "metadata": {},
   "source": [
    "# 3 Extra verifications"
   ]
  },
  {
   "cell_type": "code",
   "execution_count": 119,
   "id": "74fb517a",
   "metadata": {},
   "outputs": [
    {
     "name": "stdout",
     "output_type": "stream",
     "text": [
      "1930 18\n",
      "1934 17\n",
      "1938 18\n",
      "1950 22\n",
      "1954 26\n",
      "1958 35\n",
      "1962 32\n",
      "1966 32\n",
      "1970 32\n",
      "1974 38\n",
      "1978 38\n",
      "1982 52\n",
      "1986 52\n",
      "1990 52\n",
      "1994 52\n",
      "1998 64\n",
      "2002 64\n",
      "2006 64\n",
      "2010 64\n",
      "2014 64\n",
      "2018 64\n"
     ]
    }
   ],
   "source": [
    "# Verify number of matches per competition\n",
    "years = [1930, 1934, 1938, 1950, 1954, 1958, 1962, 1966, 1970, 1974, 1978, 1982, 1986, 1990, 1994, 1998, 2002, 2006, 2010, 2014, 2018]\n",
    "\n",
    "for year in years:\n",
    "    print(year, len(df_historical_data[df_historical_data['Year'] == year]))"
   ]
  }
 ],
 "metadata": {
  "kernelspec": {
   "display_name": "Python 3 (ipykernel)",
   "language": "python",
   "name": "python3"
  },
  "language_info": {
   "codemirror_mode": {
    "name": "ipython",
    "version": 3
   },
   "file_extension": ".py",
   "mimetype": "text/x-python",
   "name": "python",
   "nbconvert_exporter": "python",
   "pygments_lexer": "ipython3",
   "version": "3.9.7"
  }
 },
 "nbformat": 4,
 "nbformat_minor": 5
}
